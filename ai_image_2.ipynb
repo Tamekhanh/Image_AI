{
 "cells": [
  {
   "cell_type": "code",
   "execution_count": null,
   "id": "1b264b4f",
   "metadata": {},
   "outputs": [],
   "source": [
    "import PIL\n",
    "import tensorflow as tf\n",
    "\n",
    "from tensorflow import keras\n",
    "from tensorflow.keras import layers\n",
    "from tensorflow.keras.models import Sequential\n",
    "from tensorflow.keras.layers import Conv2D, MaxPooling2D, Flatten, Dense, Dropout\n",
    "from tensorflow.keras.applications import MobileNetV2\n",
    "from tensorflow.keras import layers, models\n",
    "from tensorflow.keras.optimizers import Adam\n",
    "from tensorflow.keras.applications.mobilenet_v2 import preprocess_input\n",
    "from sklearn.utils.class_weight import compute_class_weight\n",
    "import pathlib\n",
    "import matplotlib.pyplot as plt\n",
    "from sklearn.metrics import confusion_matrix, classification_report\n",
    "import numpy as np\n",
    "import os\n",
    "from tensorflow.keras.models import load_model\n",
    "from sklearn.utils import class_weight"
   ]
  },
  {
   "cell_type": "code",
   "execution_count": null,
   "id": "547e0824",
   "metadata": {},
   "outputs": [],
   "source": [
    "data_dir = pathlib.Path(r\"D:\\BT\\2433_Emerging_Technologies\\data\\Set_A\\Set_A\\Train\")"
   ]
  },
  {
   "cell_type": "code",
   "execution_count": null,
   "id": "e1feaddf",
   "metadata": {},
   "outputs": [],
   "source": [
    "listImages = list(data_dir.glob('*/*.jpg')) + list(data_dir.glob('*/*.png')) + list(data_dir.glob('*/*.jpeg')) + list(data_dir.glob('*/*.jfif')) \n",
    "\n",
    "image_count = len(listImages)\n",
    "print(image_count)\n",
    "listImages"
   ]
  },
  {
   "cell_type": "code",
   "execution_count": null,
   "id": "c93fc585",
   "metadata": {},
   "outputs": [],
   "source": [
    "batch_size = 64\n",
    "img_height = 320\n",
    "img_width = 320"
   ]
  },
  {
   "cell_type": "code",
   "execution_count": null,
   "id": "73e8b38d",
   "metadata": {},
   "outputs": [],
   "source": [
    "def square_fn(x):\n",
    "    return x ** 2"
   ]
  },
  {
   "cell_type": "code",
   "execution_count": null,
   "id": "ca9cdc8c",
   "metadata": {},
   "outputs": [],
   "source": [
    "train_ds = tf.keras.utils.image_dataset_from_directory(\n",
    "  data_dir,\n",
    "  validation_split=0.2,\n",
    "  subset=\"training\",\n",
    "  seed=123,\n",
    "  image_size=(img_height, img_width),\n",
    "  batch_size=batch_size)\n",
    "val_ds = tf.keras.utils.image_dataset_from_directory(\n",
    "  data_dir,\n",
    "  validation_split=0.2,\n",
    "  subset=\"validation\",\n",
    "  seed=123,\n",
    "  image_size=(img_height, img_width),\n",
    "  batch_size=batch_size)"
   ]
  },
  {
   "cell_type": "code",
   "execution_count": null,
   "id": "f50cacb9",
   "metadata": {},
   "outputs": [],
   "source": [
    "class_names = train_ds.class_names \n",
    "print(class_names)"
   ]
  },
  {
   "cell_type": "code",
   "execution_count": null,
   "id": "bc0c2170",
   "metadata": {},
   "outputs": [],
   "source": [
    "data_augmentation = tf.keras.Sequential([\n",
    "    # layers.RandomFlip(\"horizontal_and_vertical\"),\n",
    "    # layers.RandomRotation(0.2),\n",
    "    # layers.RandomZoom(0.2),\n",
    "    # layers.RandomContrast(0.2),\n",
    "    # layers.RandomBrightness(factor=0.2),\n",
    "    # layers.RandomTranslation(0.1, 0.1),\n",
    "    # layers.GaussianNoise(0.1)\n",
    "    layers.RandomFlip(\"horizontal\"),\n",
    "    layers.RandomBrightness(0.05),\n",
    "    layers.RandomRotation(0.1),\n",
    "    layers.RandomZoom(0.1),\n",
    "    layers.RandomContrast(0.1),\n",
    "    layers.RandomTranslation(0.05, 0.05),\n",
    "])"
   ]
  },
  {
   "cell_type": "code",
   "execution_count": null,
   "id": "8f0f961d",
   "metadata": {},
   "outputs": [],
   "source": [
    "num_classes = len(class_names)\n",
    "\n",
    "# khai báo các Layers\n",
    "def create_model():\n",
    "  base_model = MobileNetV2(input_shape=(img_height, img_width, 3),\n",
    "                             include_top=False,\n",
    "                             weights='imagenet')\n",
    "  base_model.trainable = True\n",
    "\n",
    "  fine_tune_at = 50\n",
    "  for layer in base_model.layers[:fine_tune_at]:\n",
    "    layer.trainable = False\n",
    "  model = Sequential([\n",
    "    data_augmentation,\n",
    "    layers.Lambda(preprocess_input),\n",
    "    base_model,\n",
    "    # layers.Conv2D(16, 3, padding='same', activation='relu'),\n",
    "    # layers.MaxPooling2D(),\n",
    "    # layers.Conv2D(32, 3, padding='same', activation='relu'),\n",
    "    # layers.MaxPooling2D(),\n",
    "    # layers.Conv2D(64, 3, padding='same', activation='relu'),\n",
    "    # layers.MaxPooling2D(),\n",
    "    # layers.Flatten(),\n",
    "    # layers.Dense(128, activation='relu'),\n",
    "    # layers.Dropout(0.5),\n",
    "    # layers.Dense(num_classes, activation='softmax')\n",
    "    layers.GlobalAveragePooling2D(),\n",
    "    layers.Dense(256, activation='relu'),\n",
    "    layers.BatchNormalization(),\n",
    "    layers.Dropout(0.5),\n",
    "    layers.Dense(512, activation='relu'),\n",
    "    layers.BatchNormalization(),\n",
    "    layers.Dropout(0.5),\n",
    "    layers.Dense(num_classes, activation='softmax')\n",
    "  ]) \n",
    "\n",
    "  lr_schedule = tf.keras.optimizers.schedules.ExponentialDecay(\n",
    "        initial_learning_rate=1e-5,\n",
    "        decay_steps=10000,\n",
    "        decay_rate=0.96,\n",
    "        staircase=True\n",
    "    )\n",
    "  model.compile(\n",
    "    # optimizer='adam',\n",
    "    # loss=tf.keras.losses.SparseCategoricalCrossentropy(from_logits=False),\n",
    "    optimizer=Adam(learning_rate=lr_schedule),\n",
    "    loss='sparse_categorical_crossentropy',\n",
    "    metrics=['accuracy']) \n",
    "  return model"
   ]
  },
  {
   "cell_type": "code",
   "execution_count": null,
   "id": "c64c9ec7",
   "metadata": {},
   "outputs": [],
   "source": [
    "for class_name in class_names:\n",
    "    count = len(list((data_dir / class_name).glob(\"*\")))\n",
    "    print(f\"{class_name}: {count} images\")"
   ]
  },
  {
   "cell_type": "code",
   "execution_count": null,
   "id": "43bf3da8",
   "metadata": {},
   "outputs": [],
   "source": [
    "class StopTrainingAtAccuracy(tf.keras.callbacks.Callback):\n",
    "    def on_epoch_end(self, epoch, logs=None):\n",
    "        if logs.get('accuracy') is not None and logs.get('accuracy') >= 0.98:\n",
    "            print(f\"\\n Dừng huấn luyện: Độ chính xác đạt {logs.get('accuracy')}\")\n",
    "            self.model.stop_training = True \n",
    "stop_callback = StopTrainingAtAccuracy()\n",
    "# steps_per_epoch = len(train_ds)\n",
    "validation_steps = len(val_ds)"
   ]
  },
  {
   "cell_type": "code",
   "execution_count": null,
   "id": "e6549439",
   "metadata": {},
   "outputs": [],
   "source": [
    "plt.figure(figsize=(10, 10))\n",
    "train_ds = train_ds.apply(tf.data.experimental.ignore_errors())\n",
    "for images, labels in train_ds.take(1):  # Dữ liệu gốc chưa được chuẩn hóa\n",
    "    for i in range(12):\n",
    "        ax = plt.subplot(4, 4, i + 1)\n",
    "        plt.imshow(images[i].numpy().astype(\"uint8\"))\n",
    "        plt.title(class_names[labels[i]])\n",
    "        plt.axis(\"off\")\n",
    "plt.show()"
   ]
  },
  {
   "cell_type": "code",
   "execution_count": null,
   "id": "4a7e8ecf",
   "metadata": {},
   "outputs": [],
   "source": [
    "for images, labels in train_ds.take(1):\n",
    "    plt.imshow(images[0].numpy().astype(\"uint8\"))\n",
    "    plt.title(f\"Label: {class_names[labels[0]]}\")\n",
    "    plt.show()"
   ]
  },
  {
   "cell_type": "code",
   "execution_count": null,
   "id": "35996a91",
   "metadata": {},
   "outputs": [],
   "source": []
  },
  {
   "cell_type": "code",
   "execution_count": null,
   "id": "69946d5f",
   "metadata": {},
   "outputs": [],
   "source": [
    "best_model_path = \"best_model_so_far.keras\"\n",
    "best_val_acc_so_far = 0.0\n",
    "best_model = None\n",
    "\n",
    "# Nếu đã có model lưu từ trước, thì tải nó\n",
    "if os.path.exists(best_model_path):\n",
    "    print(\"Tải lại model tốt nhất từ trước...\")\n",
    "    best_model = load_model(best_model_path)\n",
    "    # Cần đo lại độ chính xác validation của model này\n",
    "    loss, acc = best_model.evaluate(val_ds, verbose=0)\n",
    "    best_val_acc_so_far = acc\n",
    "    print(f\"Val Accuracy hiện tại của model đã lưu: {acc:.4f}\")"
   ]
  },
  {
   "cell_type": "code",
   "execution_count": null,
   "id": "8d97202b",
   "metadata": {},
   "outputs": [],
   "source": [
    "y_train = np.concatenate([y.numpy() for x, y in train_ds])\n",
    "class_weights = compute_class_weight(\n",
    "      class_weight=\"balanced\",\n",
    "      classes=np.unique(y_train),\n",
    "      y=y_train\n",
    "  )\n",
    "class_weights = dict(enumerate(class_weights))"
   ]
  },
  {
   "cell_type": "code",
   "execution_count": null,
   "id": "525ec62a",
   "metadata": {},
   "outputs": [],
   "source": [
    "attempt = 1\n",
    "best_val_acc = best_val_acc_so_far\n",
    "best_model_path = \"best_model_so_far.keras\"\n",
    "\n",
    "while True:\n",
    "    model = create_model()\n",
    "    early_stop = tf.keras.callbacks.EarlyStopping(\n",
    "        monitor='val_loss',\n",
    "        patience=10,\n",
    "        restore_best_weights=True\n",
    "    )\n",
    "    tensorboard_callback = tf.keras.callbacks.TensorBoard(log_dir=\"./logs\")\n",
    "    history = model.fit(\n",
    "        train_ds,\n",
    "        validation_data=val_ds,\n",
    "        epochs=500,\n",
    "        class_weight=class_weights,\n",
    "        #không cần thiết\n",
    "        # steps_per_epoch=steps_per_epoch,\n",
    "        # validation_steps=validation_steps,\n",
    "        callbacks=[early_stop, tensorboard_callback, stop_callback],\n",
    "        verbose=1\n",
    "    )\n",
    "    acc = history.history['accuracy'][-1]\n",
    "    val_acc = history.history['val_accuracy'][-1]\n",
    "\n",
    "    print(f\"Accuracy: {acc:.4f}, Val Accuracy: {val_acc:.4f}\")\n",
    "    \n",
    "    if val_acc > best_val_acc:\n",
    "        best_val_acc = val_acc\n",
    "        print(f\"Lưu model mới tốt hơn với Val Accuracy = {val_acc:.4f}\")\n",
    "        model.save(best_model_path)\n",
    "    \n",
    "    if acc >= 1.0 and 0.8 <= val_acc <= 1.0:\n",
    "        print(\"Đạt yêu cầu. Lưu model...\")\n",
    "        model.save(\"model_accepted.keras\")\n",
    "        break\n",
    "    else:\n",
    "        print(\"Chưa đạt yêu cầu. Huấn luyện lại...\\n\")\n",
    "        attempt += 1\n"
   ]
  },
  {
   "cell_type": "code",
   "execution_count": null,
   "id": "13aa8f14",
   "metadata": {},
   "outputs": [],
   "source": [
    "acc = history.history['accuracy']\n",
    "val_acc = history.history['val_accuracy']\n",
    "loss = history.history['loss']\n",
    "val_loss = history.history['val_loss']\n",
    "\n",
    "epochs_range = range(len(acc))\n",
    "\n",
    "plt.figure(figsize=(12, 4))\n",
    "plt.subplot(1, 2, 1)\n",
    "plt.plot(epochs_range, acc, label='Train Accuracy')\n",
    "plt.plot(epochs_range, val_acc, label='Val Accuracy')\n",
    "plt.legend()\n",
    "plt.subplot(1, 2, 2)\n",
    "plt.plot(epochs_range, loss, label='Train Loss')\n",
    "plt.plot(epochs_range, val_loss, label='Val Loss')\n",
    "plt.legend()\n",
    "plt.show()"
   ]
  },
  {
   "cell_type": "code",
   "execution_count": null,
   "id": "30668730",
   "metadata": {},
   "outputs": [],
   "source": [
    "print(train_ds.class_names)"
   ]
  },
  {
   "cell_type": "code",
   "execution_count": null,
   "id": "2dbbdf60",
   "metadata": {},
   "outputs": [],
   "source": [
    "best_model.summary()"
   ]
  },
  {
   "cell_type": "code",
   "execution_count": null,
   "id": "b80f11d4",
   "metadata": {},
   "outputs": [],
   "source": [
    "best_model_path = \"best_model_so_far.keras\"\n",
    "best_val_acc_so_far = 0.0\n",
    "best_model = None\n",
    "\n",
    "# Nếu đã có model lưu từ trước, thì tải nó\n",
    "if os.path.exists(best_model_path):\n",
    "    print(\"Tải lại model tốt nhất từ trước...\")\n",
    "    best_model = load_model(best_model_path, custom_objects={\"preprocess_input\": preprocess_input})\n",
    "    # Cần đo lại độ chính xác validation của model này\n",
    "    loss, acc = best_model.evaluate(val_ds, verbose=0)\n",
    "    best_val_acc_so_far = acc\n",
    "    print(f\"Val Accuracy hiện tại của model đã lưu: {acc:.4f}\")"
   ]
  },
  {
   "cell_type": "code",
   "execution_count": null,
   "id": "1fecd412",
   "metadata": {},
   "outputs": [],
   "source": [
    "print(len(class_names))"
   ]
  },
  {
   "cell_type": "code",
   "execution_count": null,
   "id": "f632be0c",
   "metadata": {},
   "outputs": [],
   "source": [
    "y_true = []  # True labels\n",
    "y_pred = []  # Predicted labels\n",
    "\n",
    "for images, labels in train_ds:\n",
    "    predictions = best_model.predict(images)\n",
    "    y_true.extend(labels.numpy())\n",
    "    y_pred.extend(np.argmax(predictions, axis=1))\n",
    "\n",
    "print(confusion_matrix(y_true, y_pred))\n",
    "print(classification_report(y_true, y_pred))"
   ]
  },
  {
   "cell_type": "code",
   "execution_count": null,
   "id": "083c6e6a",
   "metadata": {},
   "outputs": [],
   "source": [
    "pred = best_model.predict(np.expand_dims(img, axis=0))\n",
    "for i, prob in enumerate(pred[0]):\n",
    "    print(f\"{i}: {class_names[i]} - {prob * 100:.2f}%\")"
   ]
  },
  {
   "cell_type": "code",
   "execution_count": null,
   "id": "3b59224e",
   "metadata": {},
   "outputs": [],
   "source": [
    "test_dir = pathlib.Path(r\"D:\\\\BT\\\\2433_Emerging_Technologies\\\\data\\\\Set_A\\\\Set_A\\\\Test\") \n",
    "listImages_test = list(test_dir.glob('*.jpg')) + list(test_dir.glob('*.webp')) + list(test_dir.glob('*.png')) + list(test_dir.glob('*.jpeg')) + list(test_dir.glob('*.jfif'))\n",
    "plt.figure(figsize=(20, 20))\n",
    "for i in range(len(listImages_test)):\n",
    "    img = tf.keras.utils.load_img(\n",
    "        listImages_test[i], target_size=(img_width, img_height)\n",
    "    )\n",
    "    img_array = tf.keras.utils.img_to_array(img)\n",
    "    img_array = tf.expand_dims(img_array, 0)  # Create a batch\n",
    "    predictions = best_model.predict(img_array)\n",
    "    score = tf.nn.softmax(predictions[0])\n",
    "\n",
    "    predicted_name = class_names[np.argmax(score)]\n",
    "    confidence = 100 * np.max(score)\n",
    "    true_name = listImages_test[i].name  # Extract the true name from the file name\n",
    "    print(i, f\"Predict {predicted_name} with a {confidence:.2f} percent confidence. ::REAL {true_name}\")\n",
    "    plt.subplot((len(listImages_test)//6) + 1, 6, i + 1)\n",
    "    plt.imshow(img)\n",
    "    plt.title(f\"Predicted: {predicted_name}\\nConfidence: {confidence:.2f}%\\nTrue: {true_name}\")\n",
    "    plt.axis(\"off\")\n",
    "\n",
    "plt.tight_layout()\n",
    "plt.show()"
   ]
  },
  {
   "cell_type": "code",
   "execution_count": null,
   "id": "23a41c29",
   "metadata": {},
   "outputs": [],
   "source": [
    "predictions = best_model.predict(images)\n",
    "confidence_scores = tf.reduce_max(predictions, axis=1)  # Lấy giá trị lớn nhất\n",
    "print(\"Confidence Scores:\", confidence_scores.numpy())"
   ]
  },
  {
   "cell_type": "code",
   "execution_count": null,
   "id": "ad49f276",
   "metadata": {},
   "outputs": [],
   "source": [
    "predicted_class = np.argmax(predictions[0])\n",
    "print(f\"Predict {class_names[predicted_class]} with a {confidence:.2f}% confidence.\")\n",
    "for i in range(len(images)):\n",
    "    predicted_class = np.argmax(predictions[i])\n",
    "    confidence = 100 * predictions[i][predicted_class]\n",
    "    print(f\"{i} Predict {class_names[predicted_class]} with a {confidence:.2f}% confidence.\")"
   ]
  },
  {
   "cell_type": "markdown",
   "id": "96e1e8fc",
   "metadata": {},
   "source": [
    "11\n",
    "10\n",
    "10\n",
    "13\n",
    "13\n",
    "13"
   ]
  }
 ],
 "metadata": {
  "kernelspec": {
   "display_name": "Python 3",
   "language": "python",
   "name": "python3"
  },
  "language_info": {
   "codemirror_mode": {
    "name": "ipython",
    "version": 3
   },
   "file_extension": ".py",
   "mimetype": "text/x-python",
   "name": "python",
   "nbconvert_exporter": "python",
   "pygments_lexer": "ipython3",
   "version": "3.12.0"
  }
 },
 "nbformat": 4,
 "nbformat_minor": 5
}
